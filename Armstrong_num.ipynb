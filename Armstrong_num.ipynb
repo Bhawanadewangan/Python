{
 "cells": [
  {
   "cell_type": "code",
   "execution_count": 2,
   "id": "3cfe87aa",
   "metadata": {},
   "outputs": [
    {
     "name": "stdout",
     "output_type": "stream",
     "text": [
      "8891 is not armstrong number\n"
     ]
    }
   ],
   "source": [
    "# Check the Armstrong numbers\n",
    "n=8891\n",
    "sum=0\n",
    "order=len(str(n))\n",
    "copy_n=n\n",
    "while(n>0):\n",
    "    digit=n%10\n",
    "    sum+=digit**order\n",
    "    n=n//10\n",
    "    \n",
    "if (sum==copy_n):\n",
    "    print(f\"{copy_n} is armstrong numbers\")\n",
    "else:\n",
    "    print(f\"{copy_n} is not armstrong number\")\n"
   ]
  },
  {
   "cell_type": "code",
   "execution_count": 4,
   "id": "687d8962",
   "metadata": {},
   "outputs": [
    {
     "name": "stdout",
     "output_type": "stream",
     "text": [
      "enter the number1634\n",
      "1634 is armstrong numbers\n"
     ]
    }
   ],
   "source": [
    "# check the Armstrong number\n",
    "#take user input\n",
    "n=int(input(\"enter the number\"))\n",
    "sum=0\n",
    "order=len(str(n))\n",
    "copy_n=n\n",
    "while(n>0):\n",
    "    digit=n%10\n",
    "    sum+=digit**order\n",
    "    n=n//10\n",
    "    \n",
    "if (sum==copy_n):\n",
    "    print(f\"{copy_n} is armstrong numbers\")\n",
    "else:\n",
    "    print(f\"{copy_n} is not armstrong number\")"
   ]
  },
  {
   "cell_type": "code",
   "execution_count": null,
   "id": "20a35e21",
   "metadata": {},
   "outputs": [],
   "source": []
  }
 ],
 "metadata": {
  "kernelspec": {
   "display_name": "Python 3 (ipykernel)",
   "language": "python",
   "name": "python3"
  },
  "language_info": {
   "codemirror_mode": {
    "name": "ipython",
    "version": 3
   },
   "file_extension": ".py",
   "mimetype": "text/x-python",
   "name": "python",
   "nbconvert_exporter": "python",
   "pygments_lexer": "ipython3",
   "version": "3.9.12"
  }
 },
 "nbformat": 4,
 "nbformat_minor": 5
}
