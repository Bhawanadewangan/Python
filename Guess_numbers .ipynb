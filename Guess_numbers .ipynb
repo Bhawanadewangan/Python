{
 "cells": [
  {
   "cell_type": "code",
   "execution_count": 2,
   "id": "2fa073ec",
   "metadata": {},
   "outputs": [
    {
     "name": "stdout",
     "output_type": "stream",
     "text": [
      "limit 10 to 20\n",
      "enter your age12\n",
      "this is greater than\n",
      "8 no of guesses left\n",
      "enter your age13\n",
      "this is greater than\n",
      "7 no of guesses left\n",
      "enter your age14\n",
      "this is greater than\n",
      "6 no of guesses left\n",
      "enter your age20\n",
      "this is lesser than\n",
      "5 no of guesses left\n",
      "enter your age19\n",
      "this is lesser than\n",
      "4 no of guesses left\n",
      "enter your age18\n",
      "you are right and won\n",
      "game over\n"
     ]
    }
   ],
   "source": [
    "#guess the number \n",
    "print(\"limit 10 to 20\")\n",
    "n=18\n",
    "guess=1\n",
    "while (guess<=9):\n",
    "    \n",
    "    age=int(input(\"enter your age\"))\n",
    "    if age<18:\n",
    "        print(\"this is greater than\")\n",
    "    elif age>18:\n",
    "        print(\"this is lesser than\")\n",
    "    else:\n",
    "        print(\"you are right and won\")\n",
    "        print(\"game over\")\n",
    "        break\n",
    "    print(9-guess,\"no of guesses left\")\n",
    "    guess=guess+1\n",
    "if (guess>9):\n",
    "    print(\"game over\")\n",
    "            "
   ]
  },
  {
   "cell_type": "code",
   "execution_count": null,
   "id": "98edb250",
   "metadata": {},
   "outputs": [],
   "source": []
  }
 ],
 "metadata": {
  "kernelspec": {
   "display_name": "Python 3 (ipykernel)",
   "language": "python",
   "name": "python3"
  },
  "language_info": {
   "codemirror_mode": {
    "name": "ipython",
    "version": 3
   },
   "file_extension": ".py",
   "mimetype": "text/x-python",
   "name": "python",
   "nbconvert_exporter": "python",
   "pygments_lexer": "ipython3",
   "version": "3.9.12"
  }
 },
 "nbformat": 4,
 "nbformat_minor": 5
}
