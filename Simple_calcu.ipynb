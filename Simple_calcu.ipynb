{
 "cells": [
  {
   "cell_type": "code",
   "execution_count": 3,
   "id": "68a6fe43",
   "metadata": {},
   "outputs": [
    {
     "name": "stdout",
     "output_type": "stream",
     "text": [
      "1 add\n",
      "2 subtract\n",
      "3 muntiplecation\n",
      "4 divide\n",
      "enter the choice 1/2/3/4=2\n",
      "enter the first number=8765\n",
      "enter the second number=4567\n",
      "8765.0 - 4567.0 = 4198.0\n",
      "you want to next calculation yes/no=yes\n",
      "enter the choice 1/2/3/4=3\n",
      "enter the first number=654\n",
      "enter the second number=87\n",
      "654.0 * 87.0 = 56898.0\n",
      "you want to next calculation yes/no=yes\n",
      "enter the choice 1/2/3/4=4\n",
      "enter the first number=6543\n",
      "enter the second number=87\n",
      "6543.0 / 87.0 = 75.20689655172414\n",
      "you want to next calculation yes/no=no\n"
     ]
    }
   ],
   "source": [
    "#simple calculator using def function \n",
    "#take user input\n",
    "def add(x,y):\n",
    "    return x+y\n",
    "def subtract(x,y):\n",
    "    return x-y\n",
    "def multiplecation(x,y):\n",
    "    return x*y\n",
    "def divide(x,y):\n",
    "    return x/y\n",
    "\n",
    "print(\"1 add\")\n",
    "print(\"2 subtract\")\n",
    "print(\"3 muntiplecation\")\n",
    "print(\"4 divide\")\n",
    "\n",
    "while(True):\n",
    "    choice=input(\"enter the choice 1/2/3/4=\")\n",
    "    if choice in (\"1\",\"2\",\"3\",\"4\"):\n",
    "        num1=float(input(\"enter the first number=\"))\n",
    "        num2=float(input(\"enter the second number=\"))\n",
    "        if choice==\"1\":\n",
    "            print(num1,\"+\",num2,\"=\",add(num1,num2))\n",
    "        elif choice==\"2\":\n",
    "            print(num1,\"-\",num2,\"=\",subtract(num1,num2))\n",
    "        elif choice==\"3\":\n",
    "            print(num1,\"*\",num2,\"=\",multiplecation(num1,num2))\n",
    "        elif choice==\"4\":\n",
    "            print(num1,\"/\",num2,\"=\",divide(num1,num2))    \n",
    "        \n",
    "        next_calculation=input(\"you want to next calculation yes/no=\")\n",
    "        if next_calculation==\"no\":\n",
    "            break\n",
    "    else:\n",
    "        print(\"invalid calculation\")\n",
    "        \n",
    "        "
   ]
  },
  {
   "cell_type": "code",
   "execution_count": null,
   "id": "ab71ea61",
   "metadata": {},
   "outputs": [],
   "source": []
  }
 ],
 "metadata": {
  "kernelspec": {
   "display_name": "Python 3 (ipykernel)",
   "language": "python",
   "name": "python3"
  },
  "language_info": {
   "codemirror_mode": {
    "name": "ipython",
    "version": 3
   },
   "file_extension": ".py",
   "mimetype": "text/x-python",
   "name": "python",
   "nbconvert_exporter": "python",
   "pygments_lexer": "ipython3",
   "version": "3.9.12"
  }
 },
 "nbformat": 4,
 "nbformat_minor": 5
}
