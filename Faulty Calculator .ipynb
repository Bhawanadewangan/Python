{
 "cells": [
  {
   "cell_type": "code",
   "execution_count": 1,
   "id": "d97e57d7",
   "metadata": {},
   "outputs": [
    {
     "name": "stdout",
     "output_type": "stream",
     "text": [
      "Enter the first number22\n",
      "Enter the second number33\n",
      "Enter the operator+\n",
      "add= 55\n"
     ]
    }
   ],
   "source": [
    "#Faulty Calculator\n",
    "# 45 * 3 = 555, 56+9 = 77, 56/6 = 4\n",
    "# Design a calculator which will correctly solve all the problems except\n",
    "# the following ones:\n",
    "# 45 * 3 = 555, 56+9 = 77, 56/6 = 4\n",
    "# program take operator  and the two numbers as input from the user\n",
    "# and then return the result\n",
    "num1=int(input(\"Enter the first number\"))\n",
    "num2=int(input(\"Enter the second number\"))\n",
    "num3=input(\"Enter the operator\")\n",
    "\n",
    "if num1==45 and num2==3 and num3==\"*\":\n",
    "    print(\"555\")\n",
    "elif num1==56 and num2==9 and num3==\"+\":\n",
    "    print(\"77\")\n",
    "elif num1==56 and num2==6 and num3==\"/\":\n",
    "    print(\"4\")    \n",
    "elif num3==\"+\":\n",
    "    print(\"add=\",num1+num2)\n",
    "elif num3==\"-\":\n",
    "    print(\"minus=\",num1-num2)\n",
    "elif num3==\"*\":\n",
    "    print(\"mult=\",num1*num2)\n",
    "elif num3==\"/\":\n",
    "    print(\"div=\",num1/num2)    \n",
    "elif num3==\"%\":\n",
    "    print(\"percent=\",num1%num2)   \n",
    "else:\n",
    "    print(\"Please check the input\")\n",
    "        \n",
    "        "
   ]
  },
  {
   "cell_type": "code",
   "execution_count": 11,
   "id": "7b4515f8",
   "metadata": {},
   "outputs": [
    {
     "name": "stdout",
     "output_type": "stream",
     "text": [
      "Enter the first number45\n",
      "Enter the second number3\n",
      "Enter the operator*\n",
      "555\n",
      "Enter the first number56\n",
      "Enter the second number9\n",
      "Enter the operator+\n",
      "77\n",
      "Enter the first number54\n",
      "Enter the second number8\n",
      "Enter the operator/\n",
      "div= 6.75\n",
      "Enter the first number5\n",
      "Enter the second number9\n",
      "Enter the operator0\n",
      "Please check the input\n",
      "want to calculate value yes/no=yes\n",
      "Enter the first number5\n",
      "Enter the second number6\n",
      "Enter the operator+\n",
      "add= 11\n",
      "Enter the first number23\n",
      "Enter the second number56\n",
      "Enter the operator5\n",
      "Please check the input\n",
      "want to calculate value yes/no=no\n"
     ]
    }
   ],
   "source": [
    "#Faulty Calculator\n",
    "# 45 * 3 = 555, 56+9 = 77, 56/6 = 4\n",
    "# Design a calculator which will correctly solve all the problems except\n",
    "# the following ones:\n",
    "# 45 * 3 = 555, 56+9 = 77, 56/6 = 4\n",
    "\n",
    "while (True):\n",
    "    num1=int(input(\"Enter the first number\"))\n",
    "    num2=int(input(\"Enter the second number\"))\n",
    "    num3=input(\"Enter the operator\")\n",
    "    if num1==45 and num2==3 and num3==\"*\":\n",
    "        print(\"555\")\n",
    "    elif num1==56 and num2==9 and num3==\"+\":\n",
    "        print(\"77\")\n",
    "    elif num1==56 and num2==6 and num3==\"/\":\n",
    "        print(\"4\")    \n",
    "    elif num3==\"+\":\n",
    "        print(\"add=\",num1+num2)\n",
    "    elif num3==\"-\":\n",
    "        print(\"minus=\",num1-num2)\n",
    "    elif num3==\"*\":\n",
    "        print(\"mult=\",num1*num2)\n",
    "    elif num3==\"/\":\n",
    "        print(\"div=\",num1/num2)    \n",
    "    elif num3==\"%\":\n",
    "        print(\"percent=\",num1%num2)   \n",
    "    else:\n",
    "        print(\"Please check the input\")\n",
    "        x=input(\"want to calculate value yes/no=\")\n",
    "        if x==\"no\":\n",
    "            break"
   ]
  },
  {
   "cell_type": "code",
   "execution_count": null,
   "id": "09b1ca37",
   "metadata": {},
   "outputs": [],
   "source": []
  }
 ],
 "metadata": {
  "kernelspec": {
   "display_name": "Python 3 (ipykernel)",
   "language": "python",
   "name": "python3"
  },
  "language_info": {
   "codemirror_mode": {
    "name": "ipython",
    "version": 3
   },
   "file_extension": ".py",
   "mimetype": "text/x-python",
   "name": "python",
   "nbconvert_exporter": "python",
   "pygments_lexer": "ipython3",
   "version": "3.9.12"
  }
 },
 "nbformat": 4,
 "nbformat_minor": 5
}
